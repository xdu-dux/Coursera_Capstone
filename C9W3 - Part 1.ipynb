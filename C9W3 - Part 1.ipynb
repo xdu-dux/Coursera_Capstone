{
    "cells": [
        {
            "cell_type": "markdown",
            "metadata": {
                "collapsed": true
            },
            "source": "# Peer-graded Assignment: Segmenting and Clustering Neighborhoods in Toronto\n\nProject Title *\n\n## Segmenting and Clustering Neighborhoods in Toronto\n\nFor this assignment, you will be required to explore and cluster the neighborhoods in Toronto.\n\n1. Start by creating a new Notebook for this assignment.\n2. Use the Notebook to build the code to scrape the following Wikipedia page, <https://en.wikipedia.org/wiki/List_of_postal_codes_of_Canada:_M>, in order to obtain the data that is in the table of postal codes and to transform the data into a _pandas_ dataframe like the one shown below:\n\n<img src=\"https://d3c33hcgiwev3.cloudfront.net/imageAssetProxy.v1/7JXaz3NNEeiMwApe4i-fLg_40e690ae0e927abda2d4bde7d94ed133_Screen-Shot-2018-06-18-at-7.17.57-PM.png?expiry=1587340800000&hmac=xG2qdgypGGbgPLSFwGEvKwC0vkkrdbfoQlD5vGEsei4\" width=\"40%\">\n\n3. To create the above dataframe:\n    + The dataframe will consist of three columns: PostalCode, Borough, and Neighborhood\n    + Only process the cells that have an assigned borough. Ignore cells with a borough that is __Not assigned__.\n    + More than one neighborhood can exist in one postal code area. For example, in the table on the Wikipedia page, you will notice that __M5A__ is listed twice and has two neighborhoods: __Harbourfront__ and __Regent Park__. These two rows will be combined into one row with the neighborhoods separated with a comma as shown in __row 11__ in the above table.\n    + If a cell has a borough but a __Not assigned__ neighborhood, then the neighborhood will be the same as the borough.\n    + Clean your Notebook and add Markdown cells to explain your work and any assumptions you are making.\n    + In the last cell of your notebook, use the __.shape__ method to print the number of rows of your dataframe.\n\n4. Submit a link to your Notebook on your Github repository. __(10 marks)__\n\n__Note__: There are different website scraping libraries and packages in Python. For scraping the above table, you can simply use _pandas_ to read the table into a _pandas_ dataframe.\n\nAnother way, which would help to learn for more complicated cases of web scraping is using the BeautifulSoup package. Here is the package's main documentation page: <http://beautiful-soup-4.readthedocs.io/en/latest/>\n\nThe package is so popular that there is a plethora of tutorials and examples on how to use it. Here is a very good Youtube video on how to use the BeautifulSoup package: <https://www.youtube.com/watch?v=ng2o98k983k>\n\nUse _pandas,_ or the BeautifulSoup package, or any other way you are comfortable with to transform the data in the table on the Wikipedia page into the above _pandas_ dataframe."
        },
        {
            "cell_type": "markdown",
            "metadata": {},
            "source": "### Import libraries and config default settings"
        },
        {
            "cell_type": "code",
            "execution_count": 1,
            "metadata": {},
            "outputs": [],
            "source": "from bs4 import BeautifulSoup\nimport requests\nimport pandas as pd"
        },
        {
            "cell_type": "code",
            "execution_count": 2,
            "metadata": {},
            "outputs": [
                {
                    "data": {
                        "text/html": "<div>\n<style scoped>\n    .dataframe tbody tr th:only-of-type {\n        vertical-align: middle;\n    }\n\n    .dataframe tbody tr th {\n        vertical-align: top;\n    }\n\n    .dataframe thead th {\n        text-align: right;\n    }\n</style>\n<table border=\"1\" class=\"dataframe\">\n  <thead>\n    <tr style=\"text-align: right;\">\n      <th></th>\n      <th>Postalcode</th>\n      <th>Borough</th>\n      <th>Neighborhood</th>\n    </tr>\n  </thead>\n  <tbody>\n    <tr>\n      <th>0</th>\n      <td>M1A</td>\n      <td>Not assigned</td>\n      <td>Not assigned</td>\n    </tr>\n    <tr>\n      <th>1</th>\n      <td>M2A</td>\n      <td>Not assigned</td>\n      <td>Not assigned</td>\n    </tr>\n    <tr>\n      <th>2</th>\n      <td>M3A</td>\n      <td>North York</td>\n      <td>Parkwoods</td>\n    </tr>\n    <tr>\n      <th>3</th>\n      <td>M4A</td>\n      <td>North York</td>\n      <td>Victoria Village</td>\n    </tr>\n    <tr>\n      <th>4</th>\n      <td>M5A</td>\n      <td>Downtown Toronto</td>\n      <td>Regent Park / Harbourfront</td>\n    </tr>\n    <tr>\n      <th>5</th>\n      <td>M6A</td>\n      <td>North York</td>\n      <td>Lawrence Manor / Lawrence Heights</td>\n    </tr>\n    <tr>\n      <th>6</th>\n      <td>M7A</td>\n      <td>Downtown Toronto</td>\n      <td>Queen's Park / Ontario Provincial Government</td>\n    </tr>\n    <tr>\n      <th>7</th>\n      <td>M8A</td>\n      <td>Not assigned</td>\n      <td>Not assigned</td>\n    </tr>\n    <tr>\n      <th>8</th>\n      <td>M9A</td>\n      <td>Etobicoke</td>\n      <td>Islington Avenue</td>\n    </tr>\n    <tr>\n      <th>9</th>\n      <td>M1B</td>\n      <td>Scarborough</td>\n      <td>Malvern / Rouge</td>\n    </tr>\n  </tbody>\n</table>\n</div>",
                        "text/plain": "  Postalcode           Borough                                  Neighborhood\n0        M1A      Not assigned                                  Not assigned\n1        M2A      Not assigned                                  Not assigned\n2        M3A        North York                                     Parkwoods\n3        M4A        North York                              Victoria Village\n4        M5A  Downtown Toronto                    Regent Park / Harbourfront\n5        M6A        North York             Lawrence Manor / Lawrence Heights\n6        M7A  Downtown Toronto  Queen's Park / Ontario Provincial Government\n7        M8A      Not assigned                                  Not assigned\n8        M9A         Etobicoke                              Islington Avenue\n9        M1B       Scarborough                               Malvern / Rouge"
                    },
                    "execution_count": 2,
                    "metadata": {},
                    "output_type": "execute_result"
                }
            ],
            "source": "# get the data table in page\nurl = \"https://en.wikipedia.org/wiki/List_of_postal_codes_of_Canada:_M\"\nsource = requests.get(url).text\nsoup = BeautifulSoup(source, 'xml')\ntable = soup.table\n\n# set a empty dataframe\ncolumns = ['Postalcode', 'Borough', 'Neighborhood']\ndf = pd.DataFrame(columns=columns)\n\nfor tr in table.find_all('tr'):\n    row_data = []\n    for td in tr.find_all('td'):\n        \n        text = td.text.strip()\n        \n        if text == '':\n\n            text = 'Not assigned'\n            \n        row_data.append(text)\n        \n    # insert data to frame after every three columns \n    if len(row_data)==3:\n        df.loc[len(df)] = row_data\n        \ndf.head(10)"
        },
        {
            "cell_type": "markdown",
            "metadata": {},
            "source": "### Clean data: drop rows wiht Borough is \"Not assigned\", fill \"Not assigned\" Neighbourhood with Borough and replace slash with comma"
        },
        {
            "cell_type": "code",
            "execution_count": 3,
            "metadata": {},
            "outputs": [
                {
                    "data": {
                        "text/html": "<div>\n<style scoped>\n    .dataframe tbody tr th:only-of-type {\n        vertical-align: middle;\n    }\n\n    .dataframe tbody tr th {\n        vertical-align: top;\n    }\n\n    .dataframe thead th {\n        text-align: right;\n    }\n</style>\n<table border=\"1\" class=\"dataframe\">\n  <thead>\n    <tr style=\"text-align: right;\">\n      <th></th>\n      <th>Postalcode</th>\n      <th>Borough</th>\n      <th>Neighborhood</th>\n    </tr>\n  </thead>\n  <tbody>\n    <tr>\n      <th>0</th>\n      <td>M3A</td>\n      <td>North York</td>\n      <td>Parkwoods</td>\n    </tr>\n    <tr>\n      <th>1</th>\n      <td>M4A</td>\n      <td>North York</td>\n      <td>Victoria Village</td>\n    </tr>\n    <tr>\n      <th>2</th>\n      <td>M5A</td>\n      <td>Downtown Toronto</td>\n      <td>Regent Park, Harbourfront</td>\n    </tr>\n    <tr>\n      <th>3</th>\n      <td>M6A</td>\n      <td>North York</td>\n      <td>Lawrence Manor, Lawrence Heights</td>\n    </tr>\n    <tr>\n      <th>4</th>\n      <td>M7A</td>\n      <td>Downtown Toronto</td>\n      <td>Queen's Park, Ontario Provincial Government</td>\n    </tr>\n    <tr>\n      <th>5</th>\n      <td>M9A</td>\n      <td>Etobicoke</td>\n      <td>Islington Avenue</td>\n    </tr>\n    <tr>\n      <th>6</th>\n      <td>M1B</td>\n      <td>Scarborough</td>\n      <td>Malvern, Rouge</td>\n    </tr>\n    <tr>\n      <th>7</th>\n      <td>M3B</td>\n      <td>North York</td>\n      <td>Don Mills</td>\n    </tr>\n    <tr>\n      <th>8</th>\n      <td>M4B</td>\n      <td>East York</td>\n      <td>Parkview Hill, Woodbine Gardens</td>\n    </tr>\n    <tr>\n      <th>9</th>\n      <td>M5B</td>\n      <td>Downtown Toronto</td>\n      <td>Garden District, Ryerson</td>\n    </tr>\n  </tbody>\n</table>\n</div>",
                        "text/plain": "  Postalcode           Borough                                 Neighborhood\n0        M3A        North York                                    Parkwoods\n1        M4A        North York                             Victoria Village\n2        M5A  Downtown Toronto                    Regent Park, Harbourfront\n3        M6A        North York             Lawrence Manor, Lawrence Heights\n4        M7A  Downtown Toronto  Queen's Park, Ontario Provincial Government\n5        M9A         Etobicoke                             Islington Avenue\n6        M1B       Scarborough                               Malvern, Rouge\n7        M3B        North York                                    Don Mills\n8        M4B         East York              Parkview Hill, Woodbine Gardens\n9        M5B  Downtown Toronto                     Garden District, Ryerson"
                    },
                    "execution_count": 3,
                    "metadata": {},
                    "output_type": "execute_result"
                }
            ],
            "source": "df = df[df['Borough']!='Not assigned']\n\ndf.loc[df['Neighborhood']=='Not assigned' , 'Neighborhood'] = df['Borough']\n\ndf['Neighborhood'] = df['Neighborhood'].apply(lambda x : x.replace(\" /\", \",\"))\n\ndf = df.reset_index()[columns]\n\ndf.to_csv('post_ca_m.csv', index=False)\n\ndf.head(10)"
        },
        {
            "cell_type": "code",
            "execution_count": 4,
            "metadata": {},
            "outputs": [
                {
                    "data": {
                        "text/plain": "(103, 3)"
                    },
                    "execution_count": 4,
                    "metadata": {},
                    "output_type": "execute_result"
                }
            ],
            "source": "df.shape"
        }
    ],
    "metadata": {
        "kernelspec": {
            "display_name": "Python 3.6",
            "language": "python",
            "name": "python3"
        },
        "language_info": {
            "codemirror_mode": {
                "name": "ipython",
                "version": 3
            },
            "file_extension": ".py",
            "mimetype": "text/x-python",
            "name": "python",
            "nbconvert_exporter": "python",
            "pygments_lexer": "ipython3",
            "version": "3.6.9"
        }
    },
    "nbformat": 4,
    "nbformat_minor": 1
}