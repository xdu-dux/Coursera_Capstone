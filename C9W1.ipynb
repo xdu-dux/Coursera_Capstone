{
    "cells": [
        {
            "cell_type": "markdown",
            "metadata": {
                "collapsed": true
            },
            "source": "# Capstone Project Notebook"
        },
        {
            "cell_type": "markdown",
            "metadata": {},
            "source": "Project Title *\n\n## A brief Capstone Project\n\nCreate a new repository on your Github account and name it Coursera_Capstone. I have prepared a guide to walk you through the process of creating a repository and setting it up. For Mac users, click [here](https://medium.com/@aklson_DS/how-to-properly-setup-your-github-repository-mac-version-3a8047b899e5). For Windows users, click [here](https://medium.com/@aklson_DS/how-to-properly-setup-your-github-repository-windows-version-ea596b398b).\n\nNow, start a Jupyter Notebook using any platform that you are comfortable with and do the following:\n\n1. Write some markdown to explain that this notebook will be mainly used for the capstone project.\n2. Import the _pandas_ library as pd.\n3. Import the _Numpy_ library as np.\n4. Print the following the statement: Hello Capstone Project Course!\n\nPush the Notebook to your Github repository and submit a link to the notebook on your Github repository."
        },
        {
            "cell_type": "markdown",
            "metadata": {},
            "source": "__Import libraries__\n\nfirst of all, let's import the required two libraries from above."
        },
        {
            "cell_type": "code",
            "execution_count": 2,
            "metadata": {},
            "outputs": [],
            "source": "import pandas as pd\nimport numpy as np"
        },
        {
            "cell_type": "markdown",
            "metadata": {},
            "source": "secondary, print the statement: Hello Capstone Project Course!"
        },
        {
            "cell_type": "code",
            "execution_count": 3,
            "metadata": {},
            "outputs": [
                {
                    "name": "stdout",
                    "output_type": "stream",
                    "text": "Hello Capstone Project Course!\n"
                }
            ],
            "source": "print('Hello Capstone Project Course!')"
        }
    ],
    "metadata": {
        "kernelspec": {
            "display_name": "Python 3.6",
            "language": "python",
            "name": "python3"
        },
        "language_info": {
            "codemirror_mode": {
                "name": "ipython",
                "version": 3
            },
            "file_extension": ".py",
            "mimetype": "text/x-python",
            "name": "python",
            "nbconvert_exporter": "python",
            "pygments_lexer": "ipython3",
            "version": "3.6.9"
        }
    },
    "nbformat": 4,
    "nbformat_minor": 1
}